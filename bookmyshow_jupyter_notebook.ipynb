{
 "cells": [
  {
   "cell_type": "code",
   "execution_count": 3,
   "metadata": {
    "collapsed": true
   },
   "outputs": [],
   "source": [
    "import json\n",
    "import selenium\n",
    "import time\n",
    "import pandas as pd\n",
    "from selenium import webdriver\n",
    "from selenium.webdriver.common.keys import Keys\n",
    "from selenium.webdriver.support.ui import WebDriverWait \n",
    "from selenium.webdriver.common.by import By\n",
    "import selenium.webdriver.support.ui as ui\n",
    "from selenium.webdriver.support import expected_conditions as EC\n",
    "from selenium.common.exceptions import TimeoutException\n",
    "import requests\n"
   ]
  },
  {
   "cell_type": "code",
   "execution_count": 4,
   "metadata": {},
   "outputs": [],
   "source": [
    "# citylist represents the cities for which we want to find data from bookmyshow\n",
    "city_df = pd.read_excel(\"E:/SCRAPING WORK/region_name_and_region_code.xlsx\")\n",
    "citylist = list(set(city_df[\"REGION_NAME\"]))\n",
    "\n",
    "remove_citylist=[]\n",
    "dict_city_data = {}\n",
    "for city_name in citylist:\n",
    "    \n",
    "    try: \n",
    "        \n",
    "               \n",
    "#       opening the bookmyshow.com/cityname/events solves the problem of cookies \n",
    "#       cityname are various cities from citylist\n",
    "        url_bookmyshow=   \"https://in.bookmyshow.com/\" + city_name + \"/events\"\n",
    "    \n",
    "#       all those citynames with url_bookmyshow giving status code not equal to 200 are added to remove_citylist\n",
    "#       this is done to avoid data added by the citynames whose url_bookmyshow dont exist but give response on calling API\n",
    "#       all the cities whose name is added remove_citylist will be removed from citylist to make a final_citylist whose data will make the database\n",
    "        r = requests.get(url_bookmyshow)\n",
    "    \n",
    "#       all those citynames with status code not equal to 200 are added to remove_citylist.\n",
    "        if r.status_code == 200:\n",
    "            pass\n",
    "        else:\n",
    "            remove_citylist.append(city_name)\n",
    "            \n",
    "#       using selenium with google chrome driver\n",
    "        driver= webdriver.Chrome(executable_path= \"C:/Python34/Scripts/chromedriver.exe\")\n",
    "    \n",
    "#       driver.get is used to load the required url in chrome browser window\n",
    "        driver.get(url_bookmyshow)\n",
    "        \n",
    "#       time.sleep here provides a 3 seconds pause before executing the next command\n",
    "        time.sleep(3)\n",
    "    \n",
    "#       calling the api since our region is now stored in cookies using above code\n",
    "        url_api=   \"https://in.bookmyshow.com/serv/getData?timestamp=1516781018801&cmd=QUICKBOOK&type=CT\"\n",
    "        driver.get(url_api)\n",
    "        time.sleep(1)\n",
    "        \n",
    "#       the json response recieved using API is inside the pre tag, when the response page is inspected,hence getting the data using pre tag\n",
    "        json_response_As_selenium_object = driver.find_element_by_tag_name('pre')\n",
    "    \n",
    "#       note: json_response_as_selenium_object is as name suggests a selenium object ,so below json_response_As_selenium_object.text gives us a string object\n",
    "    \n",
    "#       using json.loads(), string data is converted to json format or in other words as a dictionary\n",
    "        json_data = json.loads(json_response_As_selenium_object.text)\n",
    "        \n",
    "#       creating a dynamic dictionary for each city i.e each city has json data associated with it\n",
    "        dict_city_data[city_name] = json_data\n",
    "        \n",
    "        driver.close()\n",
    "\n",
    "#   for catching errors that might happen  \n",
    "    except Exception as e:\n",
    "        print(e)\n",
    "        print(\"error for\", cityname)\n",
    "        pass"
   ]
  },
  {
   "cell_type": "code",
   "execution_count": 7,
   "metadata": {
    "collapsed": true
   },
   "outputs": [],
   "source": [
    "# final_citylist comprises of citynames whose url_bookmyshow was a relevant address i.e gave a status code of 200\n",
    "final_citylist = set(citylist) - set(remove_citylist)\n"
   ]
  },
  {
   "cell_type": "code",
   "execution_count": 8,
   "metadata": {
    "scrolled": true
   },
   "outputs": [],
   "source": [
    "# values from different dictionaries will be added to these empty list to form a final database\n",
    "event_name_list=[]\n",
    "event_global_status_list = []\n",
    "venue_name_list = []\n",
    "venue_latitude_list = []\n",
    "venue_longitude_list =[]\n",
    "venue_address_list = []\n",
    "venue_region_code_list = []\n",
    "show_date_code_list= []\n",
    "show_date_full_list = [] \n",
    "\n",
    "#  looping over citynames in final_citylist\n",
    "for cityname in list(final_citylist):\n",
    "    \n",
    "#   deriving data from dictionary of corresponding cityname\n",
    "    for i in dict_city_data[cityname]['data']['BookMyShow']['arrEvent']:\n",
    "        \n",
    "#       for an event that is taking place on multiple days ,each day is a different entry.\n",
    "        for x in i['arrDates']:\n",
    "            show_date_code_list.append(x['ShowDateCode'])\n",
    "            show_date_full_list.append(x['ShowDateDisplay'])\n",
    "            event_name_list.append(i[\"EventTitle\"])\n",
    "            event_global_status_list.append(i['EventIsGlobal'])\n",
    "            venue_name_list.append(i[\"arrVenues\"][0][\"VenueName\"])\n",
    "            venue_latitude_list.append(i[\"arrVenues\"][0]['VenueLatitude'])\n",
    "            venue_longitude_list.append(i[\"arrVenues\"][0]['VenueLongitude'])\n",
    "            venue_address_list.append(i[\"arrVenues\"][0]['VenueAddress'])\n",
    "            venue_region_code_list.append(i[\"arrVenues\"][0]['RegionCode'])\n",
    "\n",
    "\n",
    "# creating a dictionary named dict_all_data that contains all the data from all cities and this dictionary will be converted to dataframe             \n",
    "dict_all_data = {\"event_name_list\":event_name_list,\"event_venue_name_list\":venue_name_list,\"event_global_status_list\":event_global_status_list,\"venue_latitude\":venue_latitude_list,\"venue_longitude\":venue_longitude_list,\"event_date_full\": show_date_full_list,\"venue_region_code\":venue_region_code_list,\"venue_date_code\":show_date_code_list,\"venue_address\":venue_address_list}\n",
    "\n",
    "# dataframe containing all data named df_all_data\n",
    "df_all_data  = pd.DataFrame(dict_all_data)"
   ]
  },
  {
   "cell_type": "code",
   "execution_count": 21,
   "metadata": {
    "collapsed": true
   },
   "outputs": [],
   "source": [
    "df_all_data.to_excel(\"E:/bookmyshow.xlsx\")"
   ]
  },
  {
   "cell_type": "code",
   "execution_count": null,
   "metadata": {
    "collapsed": true,
    "scrolled": true
   },
   "outputs": [],
   "source": []
  },
  {
   "cell_type": "code",
   "execution_count": 25,
   "metadata": {
    "collapsed": true
   },
   "outputs": [],
   "source": []
  },
  {
   "cell_type": "code",
   "execution_count": null,
   "metadata": {
    "collapsed": true
   },
   "outputs": [],
   "source": []
  }
 ],
 "metadata": {
  "kernelspec": {
   "display_name": "Python 3",
   "language": "python",
   "name": "python3"
  },
  "language_info": {
   "codemirror_mode": {
    "name": "ipython",
    "version": 3
   },
   "file_extension": ".py",
   "mimetype": "text/x-python",
   "name": "python",
   "nbconvert_exporter": "python",
   "pygments_lexer": "ipython3",
   "version": "3.4.3"
  }
 },
 "nbformat": 4,
 "nbformat_minor": 2
}
